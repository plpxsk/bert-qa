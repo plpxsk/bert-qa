{
 "cells": [
  {
   "cell_type": "markdown",
   "id": "511be899-25e7-4cc8-a2ca-1b999b0e3557",
   "metadata": {},
   "source": [
    "# Fine Tune BERT for Q&A with Apple MLX\n",
    "\n",
    "and compare to PyTorch HuggingFace implementation"
   ]
  },
  {
   "cell_type": "code",
   "execution_count": 2,
   "id": "ff5f8237-7e3d-4684-9900-330f31139e74",
   "metadata": {},
   "outputs": [],
   "source": [
    "%load_ext autoreload\n",
    "%autoreload 2"
   ]
  },
  {
   "cell_type": "code",
   "execution_count": 13,
   "id": "61d4337f-4ecb-4630-94cc-db5e84bc7c73",
   "metadata": {},
   "outputs": [],
   "source": [
    "import torch\n",
    "from transformers import BertTokenizerFast, BertForQuestionAnswering"
   ]
  },
  {
   "cell_type": "code",
   "execution_count": 8,
   "id": "9109b393-0060-4c3b-a3db-6567ca8a4187",
   "metadata": {},
   "outputs": [],
   "source": [
    "from utils import load_squad\n",
    "from model import load_model"
   ]
  },
  {
   "cell_type": "markdown",
   "id": "e987ef77-d384-469a-aeab-74b0053798e0",
   "metadata": {},
   "source": [
    "# Load"
   ]
  },
  {
   "cell_type": "code",
   "execution_count": 7,
   "id": "1e54d729-6e43-4392-8447-c6bab0dbcbe3",
   "metadata": {},
   "outputs": [
    {
     "data": {
      "text/plain": [
       "DatasetDict({\n",
       "    train: Dataset({\n",
       "        features: ['id', 'title', 'context', 'question', 'answers'],\n",
       "        num_rows: 250\n",
       "    })\n",
       "    valid: Dataset({\n",
       "        features: ['id', 'title', 'context', 'question', 'answers'],\n",
       "        num_rows: 125\n",
       "    })\n",
       "    test: Dataset({\n",
       "        features: ['id', 'title', 'context', 'question', 'answers'],\n",
       "        num_rows: 125\n",
       "    })\n",
       "})"
      ]
     },
     "execution_count": 7,
     "metadata": {},
     "output_type": "execute_result"
    }
   ],
   "source": [
    "squad = load_squad(filter_size=500)\n",
    "squad"
   ]
  },
  {
   "cell_type": "code",
   "execution_count": 10,
   "id": "061a8078-1806-41f3-9dec-02148128b124",
   "metadata": {},
   "outputs": [],
   "source": [
    "# MLX\n",
    "bert_model = \"bert-base-uncased\"\n",
    "mlx_weights_path = \"weights/bert-base-uncased.npz\"\n",
    "model, tokenizer = load_model(bert_model, mlx_weights_path)"
   ]
  },
  {
   "cell_type": "code",
   "execution_count": 17,
   "id": "b56fe4d0-faad-4bc3-b7ac-5898313364e8",
   "metadata": {},
   "outputs": [
    {
     "name": "stderr",
     "output_type": "stream",
     "text": [
      "Some weights of BertForQuestionAnswering were not initialized from the model checkpoint at bert-base-uncased and are newly initialized: ['qa_outputs.bias', 'qa_outputs.weight']\n",
      "You should probably TRAIN this model on a down-stream task to be able to use it for predictions and inference.\n"
     ]
    }
   ],
   "source": [
    "# PyTorch HF\n",
    "pre_train_model = bert_model\n",
    "tokenizerhf = BertTokenizerFast.from_pretrained(pre_train_model)\n",
    "modelhf = BertForQuestionAnswering.from_pretrained(pre_train_model)"
   ]
  },
  {
   "cell_type": "code",
   "execution_count": null,
   "id": "cfc1165b-3333-47bf-856c-a8f58083b639",
   "metadata": {},
   "outputs": [],
   "source": []
  },
  {
   "cell_type": "code",
   "execution_count": null,
   "id": "eabf4a17-2c62-4510-b1ea-9dcc3e5d456d",
   "metadata": {},
   "outputs": [],
   "source": []
  },
  {
   "cell_type": "markdown",
   "id": "9021597f-7885-4f8b-b6a4-747545c0efd2",
   "metadata": {},
   "source": [
    "# Appendix"
   ]
  },
  {
   "cell_type": "code",
   "execution_count": 11,
   "id": "9e5009ba-e13a-4541-8887-ac2f8dbf79f3",
   "metadata": {},
   "outputs": [
    {
     "data": {
      "text/plain": [
       "Bert(\n",
       "  (embeddings): BertEmbeddings(\n",
       "    (word_embeddings): Embedding(30522, 768)\n",
       "    (token_type_embeddings): Embedding(2, 768)\n",
       "    (position_embeddings): Embedding(512, 768)\n",
       "    (norm): LayerNorm(768, eps=1e-12, affine=True)\n",
       "  )\n",
       "  (encoder): TransformerEncoder(\n",
       "    (layers.0): TransformerEncoderLayer(\n",
       "      (attention): MultiHeadAttention(\n",
       "        (query_proj): Linear(input_dims=768, output_dims=768, bias=True)\n",
       "        (key_proj): Linear(input_dims=768, output_dims=768, bias=True)\n",
       "        (value_proj): Linear(input_dims=768, output_dims=768, bias=True)\n",
       "        (out_proj): Linear(input_dims=768, output_dims=768, bias=True)\n",
       "      )\n",
       "      (ln1): LayerNorm(768, eps=1e-12, affine=True)\n",
       "      (ln2): LayerNorm(768, eps=1e-12, affine=True)\n",
       "      (linear1): Linear(input_dims=768, output_dims=3072, bias=True)\n",
       "      (linear2): Linear(input_dims=3072, output_dims=768, bias=True)\n",
       "      (gelu): GELU()\n",
       "    )\n",
       "    (layers.1): TransformerEncoderLayer(\n",
       "      (attention): MultiHeadAttention(\n",
       "        (query_proj): Linear(input_dims=768, output_dims=768, bias=True)\n",
       "        (key_proj): Linear(input_dims=768, output_dims=768, bias=True)\n",
       "        (value_proj): Linear(input_dims=768, output_dims=768, bias=True)\n",
       "        (out_proj): Linear(input_dims=768, output_dims=768, bias=True)\n",
       "      )\n",
       "      (ln1): LayerNorm(768, eps=1e-12, affine=True)\n",
       "      (ln2): LayerNorm(768, eps=1e-12, affine=True)\n",
       "      (linear1): Linear(input_dims=768, output_dims=3072, bias=True)\n",
       "      (linear2): Linear(input_dims=3072, output_dims=768, bias=True)\n",
       "      (gelu): GELU()\n",
       "    )\n",
       "    (layers.2): TransformerEncoderLayer(\n",
       "      (attention): MultiHeadAttention(\n",
       "        (query_proj): Linear(input_dims=768, output_dims=768, bias=True)\n",
       "        (key_proj): Linear(input_dims=768, output_dims=768, bias=True)\n",
       "        (value_proj): Linear(input_dims=768, output_dims=768, bias=True)\n",
       "        (out_proj): Linear(input_dims=768, output_dims=768, bias=True)\n",
       "      )\n",
       "      (ln1): LayerNorm(768, eps=1e-12, affine=True)\n",
       "      (ln2): LayerNorm(768, eps=1e-12, affine=True)\n",
       "      (linear1): Linear(input_dims=768, output_dims=3072, bias=True)\n",
       "      (linear2): Linear(input_dims=3072, output_dims=768, bias=True)\n",
       "      (gelu): GELU()\n",
       "    )\n",
       "    (layers.3): TransformerEncoderLayer(\n",
       "      (attention): MultiHeadAttention(\n",
       "        (query_proj): Linear(input_dims=768, output_dims=768, bias=True)\n",
       "        (key_proj): Linear(input_dims=768, output_dims=768, bias=True)\n",
       "        (value_proj): Linear(input_dims=768, output_dims=768, bias=True)\n",
       "        (out_proj): Linear(input_dims=768, output_dims=768, bias=True)\n",
       "      )\n",
       "      (ln1): LayerNorm(768, eps=1e-12, affine=True)\n",
       "      (ln2): LayerNorm(768, eps=1e-12, affine=True)\n",
       "      (linear1): Linear(input_dims=768, output_dims=3072, bias=True)\n",
       "      (linear2): Linear(input_dims=3072, output_dims=768, bias=True)\n",
       "      (gelu): GELU()\n",
       "    )\n",
       "    (layers.4): TransformerEncoderLayer(\n",
       "      (attention): MultiHeadAttention(\n",
       "        (query_proj): Linear(input_dims=768, output_dims=768, bias=True)\n",
       "        (key_proj): Linear(input_dims=768, output_dims=768, bias=True)\n",
       "        (value_proj): Linear(input_dims=768, output_dims=768, bias=True)\n",
       "        (out_proj): Linear(input_dims=768, output_dims=768, bias=True)\n",
       "      )\n",
       "      (ln1): LayerNorm(768, eps=1e-12, affine=True)\n",
       "      (ln2): LayerNorm(768, eps=1e-12, affine=True)\n",
       "      (linear1): Linear(input_dims=768, output_dims=3072, bias=True)\n",
       "      (linear2): Linear(input_dims=3072, output_dims=768, bias=True)\n",
       "      (gelu): GELU()\n",
       "    )\n",
       "    (layers.5): TransformerEncoderLayer(\n",
       "      (attention): MultiHeadAttention(\n",
       "        (query_proj): Linear(input_dims=768, output_dims=768, bias=True)\n",
       "        (key_proj): Linear(input_dims=768, output_dims=768, bias=True)\n",
       "        (value_proj): Linear(input_dims=768, output_dims=768, bias=True)\n",
       "        (out_proj): Linear(input_dims=768, output_dims=768, bias=True)\n",
       "      )\n",
       "      (ln1): LayerNorm(768, eps=1e-12, affine=True)\n",
       "      (ln2): LayerNorm(768, eps=1e-12, affine=True)\n",
       "      (linear1): Linear(input_dims=768, output_dims=3072, bias=True)\n",
       "      (linear2): Linear(input_dims=3072, output_dims=768, bias=True)\n",
       "      (gelu): GELU()\n",
       "    )\n",
       "    (layers.6): TransformerEncoderLayer(\n",
       "      (attention): MultiHeadAttention(\n",
       "        (query_proj): Linear(input_dims=768, output_dims=768, bias=True)\n",
       "        (key_proj): Linear(input_dims=768, output_dims=768, bias=True)\n",
       "        (value_proj): Linear(input_dims=768, output_dims=768, bias=True)\n",
       "        (out_proj): Linear(input_dims=768, output_dims=768, bias=True)\n",
       "      )\n",
       "      (ln1): LayerNorm(768, eps=1e-12, affine=True)\n",
       "      (ln2): LayerNorm(768, eps=1e-12, affine=True)\n",
       "      (linear1): Linear(input_dims=768, output_dims=3072, bias=True)\n",
       "      (linear2): Linear(input_dims=3072, output_dims=768, bias=True)\n",
       "      (gelu): GELU()\n",
       "    )\n",
       "    (layers.7): TransformerEncoderLayer(\n",
       "      (attention): MultiHeadAttention(\n",
       "        (query_proj): Linear(input_dims=768, output_dims=768, bias=True)\n",
       "        (key_proj): Linear(input_dims=768, output_dims=768, bias=True)\n",
       "        (value_proj): Linear(input_dims=768, output_dims=768, bias=True)\n",
       "        (out_proj): Linear(input_dims=768, output_dims=768, bias=True)\n",
       "      )\n",
       "      (ln1): LayerNorm(768, eps=1e-12, affine=True)\n",
       "      (ln2): LayerNorm(768, eps=1e-12, affine=True)\n",
       "      (linear1): Linear(input_dims=768, output_dims=3072, bias=True)\n",
       "      (linear2): Linear(input_dims=3072, output_dims=768, bias=True)\n",
       "      (gelu): GELU()\n",
       "    )\n",
       "    (layers.8): TransformerEncoderLayer(\n",
       "      (attention): MultiHeadAttention(\n",
       "        (query_proj): Linear(input_dims=768, output_dims=768, bias=True)\n",
       "        (key_proj): Linear(input_dims=768, output_dims=768, bias=True)\n",
       "        (value_proj): Linear(input_dims=768, output_dims=768, bias=True)\n",
       "        (out_proj): Linear(input_dims=768, output_dims=768, bias=True)\n",
       "      )\n",
       "      (ln1): LayerNorm(768, eps=1e-12, affine=True)\n",
       "      (ln2): LayerNorm(768, eps=1e-12, affine=True)\n",
       "      (linear1): Linear(input_dims=768, output_dims=3072, bias=True)\n",
       "      (linear2): Linear(input_dims=3072, output_dims=768, bias=True)\n",
       "      (gelu): GELU()\n",
       "    )\n",
       "    (layers.9): TransformerEncoderLayer(\n",
       "      (attention): MultiHeadAttention(\n",
       "        (query_proj): Linear(input_dims=768, output_dims=768, bias=True)\n",
       "        (key_proj): Linear(input_dims=768, output_dims=768, bias=True)\n",
       "        (value_proj): Linear(input_dims=768, output_dims=768, bias=True)\n",
       "        (out_proj): Linear(input_dims=768, output_dims=768, bias=True)\n",
       "      )\n",
       "      (ln1): LayerNorm(768, eps=1e-12, affine=True)\n",
       "      (ln2): LayerNorm(768, eps=1e-12, affine=True)\n",
       "      (linear1): Linear(input_dims=768, output_dims=3072, bias=True)\n",
       "      (linear2): Linear(input_dims=3072, output_dims=768, bias=True)\n",
       "      (gelu): GELU()\n",
       "    )\n",
       "    (layers.10): TransformerEncoderLayer(\n",
       "      (attention): MultiHeadAttention(\n",
       "        (query_proj): Linear(input_dims=768, output_dims=768, bias=True)\n",
       "        (key_proj): Linear(input_dims=768, output_dims=768, bias=True)\n",
       "        (value_proj): Linear(input_dims=768, output_dims=768, bias=True)\n",
       "        (out_proj): Linear(input_dims=768, output_dims=768, bias=True)\n",
       "      )\n",
       "      (ln1): LayerNorm(768, eps=1e-12, affine=True)\n",
       "      (ln2): LayerNorm(768, eps=1e-12, affine=True)\n",
       "      (linear1): Linear(input_dims=768, output_dims=3072, bias=True)\n",
       "      (linear2): Linear(input_dims=3072, output_dims=768, bias=True)\n",
       "      (gelu): GELU()\n",
       "    )\n",
       "    (layers.11): TransformerEncoderLayer(\n",
       "      (attention): MultiHeadAttention(\n",
       "        (query_proj): Linear(input_dims=768, output_dims=768, bias=True)\n",
       "        (key_proj): Linear(input_dims=768, output_dims=768, bias=True)\n",
       "        (value_proj): Linear(input_dims=768, output_dims=768, bias=True)\n",
       "        (out_proj): Linear(input_dims=768, output_dims=768, bias=True)\n",
       "      )\n",
       "      (ln1): LayerNorm(768, eps=1e-12, affine=True)\n",
       "      (ln2): LayerNorm(768, eps=1e-12, affine=True)\n",
       "      (linear1): Linear(input_dims=768, output_dims=3072, bias=True)\n",
       "      (linear2): Linear(input_dims=3072, output_dims=768, bias=True)\n",
       "      (gelu): GELU()\n",
       "    )\n",
       "  )\n",
       "  (pooler): Linear(input_dims=768, output_dims=768, bias=True)\n",
       ")"
      ]
     },
     "execution_count": 11,
     "metadata": {},
     "output_type": "execute_result"
    }
   ],
   "source": [
    "model"
   ]
  },
  {
   "cell_type": "code",
   "execution_count": 21,
   "id": "9e45c91a-463a-4c45-a7ff-173a83a10a31",
   "metadata": {},
   "outputs": [
    {
     "data": {
      "text/plain": [
       "BertForQuestionAnswering(\n",
       "  (bert): BertModel(\n",
       "    (embeddings): BertEmbeddings(\n",
       "      (word_embeddings): Embedding(30522, 768, padding_idx=0)\n",
       "      (position_embeddings): Embedding(512, 768)\n",
       "      (token_type_embeddings): Embedding(2, 768)\n",
       "      (LayerNorm): LayerNorm((768,), eps=1e-12, elementwise_affine=True)\n",
       "      (dropout): Dropout(p=0.1, inplace=False)\n",
       "    )\n",
       "    (encoder): BertEncoder(\n",
       "      (layer): ModuleList(\n",
       "        (0-11): 12 x BertLayer(\n",
       "          (attention): BertAttention(\n",
       "            (self): BertSdpaSelfAttention(\n",
       "              (query): Linear(in_features=768, out_features=768, bias=True)\n",
       "              (key): Linear(in_features=768, out_features=768, bias=True)\n",
       "              (value): Linear(in_features=768, out_features=768, bias=True)\n",
       "              (dropout): Dropout(p=0.1, inplace=False)\n",
       "            )\n",
       "            (output): BertSelfOutput(\n",
       "              (dense): Linear(in_features=768, out_features=768, bias=True)\n",
       "              (LayerNorm): LayerNorm((768,), eps=1e-12, elementwise_affine=True)\n",
       "              (dropout): Dropout(p=0.1, inplace=False)\n",
       "            )\n",
       "          )\n",
       "          (intermediate): BertIntermediate(\n",
       "            (dense): Linear(in_features=768, out_features=3072, bias=True)\n",
       "            (intermediate_act_fn): GELUActivation()\n",
       "          )\n",
       "          (output): BertOutput(\n",
       "            (dense): Linear(in_features=3072, out_features=768, bias=True)\n",
       "            (LayerNorm): LayerNorm((768,), eps=1e-12, elementwise_affine=True)\n",
       "            (dropout): Dropout(p=0.1, inplace=False)\n",
       "          )\n",
       "        )\n",
       "      )\n",
       "    )\n",
       "  )\n",
       "  (qa_outputs): Linear(in_features=768, out_features=2, bias=True)\n",
       ")"
      ]
     },
     "execution_count": 21,
     "metadata": {},
     "output_type": "execute_result"
    }
   ],
   "source": [
    "modelhf"
   ]
  },
  {
   "cell_type": "raw",
   "id": "a9f278c6-3cdb-4d87-96b8-595f3d3d084c",
   "metadata": {},
   "source": [
    "# example datasets\n",
    ">>> squad\n",
    "DatasetDict({\n",
    "    train: Dataset({\n",
    "        features: ['id', 'title', 'context', 'question', 'answers'],\n",
    "        num_rows: 50\n",
    "    })\n",
    "    valid: Dataset({\n",
    "        features: ['id', 'title', 'context', 'question', 'answers'],\n",
    "        num_rows: 25\n",
    "    })\n",
    "    test: Dataset({\n",
    "        features: ['id', 'title', 'context', 'question', 'answers'],\n",
    "        num_rows: 25\n",
    "    })\n",
    "})\n",
    ">>> tokenized_squad\n",
    "DatasetDict({\n",
    "    train: Dataset({\n",
    "        features: ['input_ids', 'token_type_ids', 'attention_mask', 'start_positions', 'end_positions'],\n",
    "        num_rows: 50\n",
    "    })\n",
    "    valid: Dataset({\n",
    "        features: ['input_ids', 'token_type_ids', 'attention_mask', 'start_positions', 'end_positions'],\n",
    "        num_rows: 25\n",
    "    })\n",
    "    test: Dataset({\n",
    "        features: ['input_ids', 'token_type_ids', 'attention_mask', 'start_positions', 'end_positions'],\n",
    "        num_rows: 25\n",
    "    })\n",
    "})"
   ]
  },
  {
   "cell_type": "code",
   "execution_count": null,
   "id": "fc4b5ecf-df56-472f-8a72-4344fc6c688e",
   "metadata": {},
   "outputs": [],
   "source": []
  }
 ],
 "metadata": {
  "kernelspec": {
   "display_name": "mlx-playgrounds",
   "language": "python",
   "name": "mlx-playgrounds"
  },
  "language_info": {
   "codemirror_mode": {
    "name": "ipython",
    "version": 3
   },
   "file_extension": ".py",
   "mimetype": "text/x-python",
   "name": "python",
   "nbconvert_exporter": "python",
   "pygments_lexer": "ipython3",
   "version": "3.12.4"
  }
 },
 "nbformat": 4,
 "nbformat_minor": 5
}
