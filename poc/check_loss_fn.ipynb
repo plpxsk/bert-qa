{
 "cells": [
  {
   "cell_type": "markdown",
   "id": "3aa5e068-fca6-4b58-a6fa-8389bf5df22b",
   "metadata": {},
   "source": [
    "# Check loss function\n",
    "\n",
    "Compare to official implementation as in `deps/loss.py`"
   ]
  },
  {
   "cell_type": "code",
   "execution_count": 1,
   "id": "375d20f0-4e19-437e-b989-8c79a5b28be9",
   "metadata": {},
   "outputs": [],
   "source": [
    "%load_ext autoreload\n",
    "%autoreload 2\n",
    "\n",
    "import sys; sys.path.append(\"..\")"
   ]
  },
  {
   "cell_type": "markdown",
   "id": "883d3adf-818f-4837-b35c-78421e3358fe",
   "metadata": {},
   "source": [
    "# Load"
   ]
  },
  {
   "cell_type": "code",
   "execution_count": 2,
   "id": "ec4b10b5-7665-43de-a5e1-7b6e16cd2fe7",
   "metadata": {},
   "outputs": [],
   "source": [
    "import mlx.core as mx\n",
    "import tensorflow as tf\n",
    "import numpy as np"
   ]
  },
  {
   "cell_type": "code",
   "execution_count": 3,
   "id": "8f0efa12-b4e2-4272-aeed-de79cefcbb8e",
   "metadata": {},
   "outputs": [
    {
     "name": "stderr",
     "output_type": "stream",
     "text": [
      "/Users/paul/Envs/PyTorTenFloHuffinFace/lib/python3.12/site-packages/tqdm/auto.py:21: TqdmWarning: IProgress not found. Please update jupyter and ipywidgets. See https://ipywidgets.readthedocs.io/en/stable/user_install.html\n",
      "  from .autonotebook import tqdm as notebook_tqdm\n"
     ]
    }
   ],
   "source": [
    "from model import load_model_tokenizer\n",
    "from qa import build_parser, load_processed_datasets, test, loss_fn, compute_loss\n",
    "from deps.loss import compute_official_bert_squad_loss, mx_to_tf"
   ]
  },
  {
   "cell_type": "code",
   "execution_count": 4,
   "id": "a15c20d7-e176-4a92-8828-64e0afa1055a",
   "metadata": {},
   "outputs": [],
   "source": [
    "parser = build_parser()\n",
    "args = parser.parse_args(\"\")\n",
    "args.weights_finetuned = '../weights/final_fine_tuned_full_data_1000_iter.npz'\n",
    "args.dataset_size = 100"
   ]
  },
  {
   "cell_type": "code",
   "execution_count": 5,
   "id": "49d1cbec-e36d-43e9-8cf8-8d8743a268e3",
   "metadata": {},
   "outputs": [
    {
     "name": "stderr",
     "output_type": "stream",
     "text": [
      "/Users/paul/Envs/PyTorTenFloHuffinFace/lib/python3.12/site-packages/transformers/tokenization_utils_base.py:1617: FutureWarning: `clean_up_tokenization_spaces` was not set. It will be set to `True` by default. This behavior will be deprecated in transformers v4.45, and will be then set to `False` by default. For more details check this issue: https://github.com/huggingface/transformers/issues/31884\n",
      "  warnings.warn(\n"
     ]
    }
   ],
   "source": [
    "model, tokenizer = load_model_tokenizer(\n",
    "    hf_model=args.model_str, weights_finetuned_path=args.weights_finetuned)"
   ]
  },
  {
   "cell_type": "code",
   "execution_count": 6,
   "id": "be6bb422-4735-4e22-811d-993d9a00b6e8",
   "metadata": {},
   "outputs": [
    {
     "name": "stderr",
     "output_type": "stream",
     "text": [
      "Map: 100%|███████████████████████████████████████████████████████████████████████████████| 80/80 [00:00<00:00, 2886.23 examples/s]\n",
      "Map: 100%|███████████████████████████████████████████████████████████████████████████████| 10/10 [00:00<00:00, 1592.37 examples/s]\n",
      "Map: 100%|███████████████████████████████████████████████████████████████████████████████| 10/10 [00:00<00:00, 1717.29 examples/s]\n"
     ]
    }
   ],
   "source": [
    "train_ds, valid_ds, test_ds = load_processed_datasets(tokenizer, args.dataset_size)"
   ]
  },
  {
   "cell_type": "code",
   "execution_count": 7,
   "id": "1db49224-82b9-446a-a96d-a8258758925e",
   "metadata": {},
   "outputs": [
    {
     "name": "stdout",
     "output_type": "stream",
     "text": [
      "Test loss 0.054, Test ppl 1.056, Test eval took 0.409s\n"
     ]
    }
   ],
   "source": [
    "test(model, valid_ds, 10)"
   ]
  },
  {
   "cell_type": "code",
   "execution_count": 8,
   "id": "b7473135-8c9d-4a05-96cf-86cee0ffe577",
   "metadata": {},
   "outputs": [
    {
     "name": "stdout",
     "output_type": "stream",
     "text": [
      "array(0.59311, dtype=float32)\n",
      "array([0.59311], dtype=float32)\n",
      "tf.Tensor(0.5931101, shape=(), dtype=float32)\n",
      "array(0.318884, dtype=float32)\n",
      "array([0.318884], dtype=float32)\n",
      "tf.Tensor(0.3188846, shape=(), dtype=float32)\n",
      "array(0.0625553, dtype=float32)\n",
      "array([0.0625553], dtype=float32)\n",
      "tf.Tensor(0.062555194, shape=(), dtype=float32)\n",
      "array(1.63804, dtype=float32)\n",
      "array([1.63804], dtype=float32)\n",
      "tf.Tensor(1.638041, shape=(), dtype=float32)\n",
      "array(0.406376, dtype=float32)\n",
      "array([0.406376], dtype=float32)\n",
      "tf.Tensor(0.4063757, shape=(), dtype=float32)\n",
      "array(1.97606, dtype=float32)\n",
      "array([1.97606], dtype=float32)\n",
      "tf.Tensor(1.9760616, shape=(), dtype=float32)\n",
      "array(0.0223765, dtype=float32)\n",
      "array([0.0223765], dtype=float32)\n",
      "tf.Tensor(0.022376684, shape=(), dtype=float32)\n",
      "array(0.116567, dtype=float32)\n",
      "array([0.116567], dtype=float32)\n",
      "tf.Tensor(0.11656732, shape=(), dtype=float32)\n",
      "array(0.0808032, dtype=float32)\n",
      "array([0.0808032], dtype=float32)\n",
      "tf.Tensor(0.08080314, shape=(), dtype=float32)\n",
      "array(0.219336, dtype=float32)\n",
      "array([0.219336], dtype=float32)\n",
      "tf.Tensor(0.21933597, shape=(), dtype=float32)\n"
     ]
    }
   ],
   "source": [
    "dataset = valid_ds\n",
    "batch_size = 1\n",
    "\n",
    "for s in range(0, len(dataset), batch_size):\n",
    "    batch = dataset[s: s + batch_size]\n",
    "    input_ids, token_type_ids, attention_mask, start_positions, end_positions = map(\n",
    "        mx.array,\n",
    "        (batch['input_ids'], batch['token_type_ids'], batch['attention_mask'],\n",
    "         batch['start_positions'], batch['end_positions'])\n",
    "    )\n",
    "    losses = loss_fn(model, input_ids, token_type_ids, attention_mask,\n",
    "                     start_positions, end_positions, reduction=\"none\")\n",
    "\n",
    "    print(losses)\n",
    "    # official implementation\n",
    "    start_logits, end_logits = model(input_ids=input_ids, token_type_ids=token_type_ids,\n",
    "                                     attention_mask=attention_mask)\n",
    "    loss = compute_loss(start_logits, end_logits, start_positions, end_positions, reduction=\"none\")\n",
    "    print(loss)\n",
    "    start_logits, end_logits, start_positions, end_positions = map(\n",
    "        mx_to_tf,\n",
    "        (start_logits, end_logits, start_positions, end_positions)\n",
    "    )\n",
    "    seq_length = input_ids.shape[1]\n",
    "    losses = compute_official_bert_squad_loss(start_logits, end_logits, start_positions, end_positions,\n",
    "                                              seq_length)\n",
    "    print(losses)"
   ]
  },
  {
   "cell_type": "code",
   "execution_count": null,
   "id": "8336054c-7546-4782-91f7-0cccdc2b6940",
   "metadata": {},
   "outputs": [],
   "source": []
  },
  {
   "cell_type": "code",
   "execution_count": null,
   "id": "460bc39d-2c76-479d-90ea-a51b7d70e3b1",
   "metadata": {},
   "outputs": [],
   "source": []
  },
  {
   "cell_type": "code",
   "execution_count": null,
   "id": "18a02a65-e7ef-4e29-8d01-86e680254bfe",
   "metadata": {},
   "outputs": [],
   "source": []
  }
 ],
 "metadata": {
  "kernelspec": {
   "display_name": "Envs_PyTorTenFloHuffinFace",
   "language": "python",
   "name": "envs_pytortenflohuffinface"
  },
  "language_info": {
   "codemirror_mode": {
    "name": "ipython",
    "version": 3
   },
   "file_extension": ".py",
   "mimetype": "text/x-python",
   "name": "python",
   "nbconvert_exporter": "python",
   "pygments_lexer": "ipython3",
   "version": "3.12.6"
  }
 },
 "nbformat": 4,
 "nbformat_minor": 5
}
