{
 "cells": [
  {
   "cell_type": "markdown",
   "id": "c2289fcb-e15e-407d-8ce0-5db8e8d4122a",
   "metadata": {},
   "source": [
    "# Performance \n",
    "\n",
    "Of a few models from HuggingFace"
   ]
  },
  {
   "cell_type": "code",
   "execution_count": 1,
   "id": "e277e1dc-af03-4340-a9c9-16008ea8f42f",
   "metadata": {},
   "outputs": [
    {
     "name": "stderr",
     "output_type": "stream",
     "text": [
      "/Users/paul/Envs/PyTorTenFloHuffinFace/lib/python3.12/site-packages/tqdm/auto.py:21: TqdmWarning: IProgress not found. Please update jupyter and ipywidgets. See https://ipywidgets.readthedocs.io/en/stable/user_install.html\n",
      "  from .autonotebook import tqdm as notebook_tqdm\n"
     ]
    }
   ],
   "source": [
    "from datasets import load_dataset\n",
    "from evaluate import evaluator"
   ]
  },
  {
   "cell_type": "code",
   "execution_count": 2,
   "id": "f8155d9a-6678-4188-8a36-d627b3be5567",
   "metadata": {},
   "outputs": [
    {
     "data": {
      "text/plain": [
       "Dataset({\n",
       "    features: ['id', 'title', 'context', 'question', 'answers'],\n",
       "    num_rows: 1000\n",
       "})"
      ]
     },
     "execution_count": 2,
     "metadata": {},
     "output_type": "execute_result"
    }
   ],
   "source": [
    "data = load_dataset(\"squad\", split=\"validation[9000:10000]\")\n",
    "data"
   ]
  },
  {
   "cell_type": "code",
   "execution_count": 3,
   "id": "970bbd2e-6ee7-42d5-af10-04bc3dba818d",
   "metadata": {},
   "outputs": [],
   "source": [
    "task_evaluator = evaluator(\"question-answering\")"
   ]
  },
  {
   "cell_type": "code",
   "execution_count": 4,
   "id": "e6f029a4-da2d-4dcf-affc-8703d8c58aec",
   "metadata": {},
   "outputs": [],
   "source": [
    "models = [\"distilbert-base-uncased-distilled-squad\", \n",
    "          \"huggingface-course/bert-finetuned-squad\"]"
   ]
  },
  {
   "cell_type": "code",
   "execution_count": 5,
   "id": "c5f04371-ceb7-4d58-be50-b8f69abf6508",
   "metadata": {},
   "outputs": [
    {
     "name": "stderr",
     "output_type": "stream",
     "text": [
      "/Users/paul/Envs/PyTorTenFloHuffinFace/lib/python3.12/site-packages/transformers/tokenization_utils_base.py:1617: FutureWarning: `clean_up_tokenization_spaces` was not set. It will be set to `True` by default. This behavior will be deprecated in transformers v4.45, and will be then set to `False` by default. For more details check this issue: https://github.com/huggingface/transformers/issues/31884\n",
      "  warnings.warn(\n"
     ]
    },
    {
     "name": "stdout",
     "output_type": "stream",
     "text": [
      "distilbert-base-uncased-distilled-squad\n",
      "{'exact_match': 80.0, 'f1': 87.86786542528225, 'total_time_in_seconds': 34.002620374998514, 'samples_per_second': 29.40949812018844, 'latency_in_seconds': 0.034002620374998516}\n",
      "huggingface-course/bert-finetuned-squad\n",
      "{'exact_match': 82.7, 'f1': 89.8188956890165, 'total_time_in_seconds': 61.45898283299903, 'samples_per_second': 16.271014486479142, 'latency_in_seconds': 0.06145898283299902}\n"
     ]
    }
   ],
   "source": [
    "# takes ~20 seconds each for batch of 1000 records\n",
    "for m in models:\n",
    "    results = task_evaluator.compute(\n",
    "        model_or_pipeline=m,\n",
    "        data=data,\n",
    "        metric=\"squad\",\n",
    "        squad_v2_format=False\n",
    "    )\n",
    "    print(m)\n",
    "    print(results)"
   ]
  },
  {
   "cell_type": "code",
   "execution_count": null,
   "id": "ebdcd9de-f5d6-4d6b-8d21-1da877a8487f",
   "metadata": {},
   "outputs": [],
   "source": []
  }
 ],
 "metadata": {
  "kernelspec": {
   "display_name": "Envs_PyTorTenFloHuffinFace",
   "language": "python",
   "name": "envs_pytortenflohuffinface"
  },
  "language_info": {
   "codemirror_mode": {
    "name": "ipython",
    "version": 3
   },
   "file_extension": ".py",
   "mimetype": "text/x-python",
   "name": "python",
   "nbconvert_exporter": "python",
   "pygments_lexer": "ipython3",
   "version": "3.12.6"
  }
 },
 "nbformat": 4,
 "nbformat_minor": 5
}
